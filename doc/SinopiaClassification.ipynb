{
 "cells": [
  {
   "cell_type": "markdown",
   "metadata": {},
   "source": [
    "# Sinopia Entity Resource Template Classification"
   ]
  },
  {
   "cell_type": "code",
   "execution_count": 7,
   "metadata": {},
   "outputs": [],
   "source": [
    "from __future__ import absolute_import, division, print_function, unicode_literals\n",
    "\n",
    "import datetime\n",
    "import os\n",
    "import rdflib\n",
    "import numpy as np\n",
    "import pandas as pd\n",
    "import tensorflow as tf"
   ]
  },
  {
   "cell_type": "markdown",
   "metadata": {},
   "source": [
    "## Setup\n",
    "Create two graphs, one for testing and one for training"
   ]
  },
  {
   "cell_type": "code",
   "execution_count": 14,
   "metadata": {},
   "outputs": [],
   "source": [
    "LDP = rdflib.Namespace('http://www.w3.org/ns/ldp#')\n",
    "SINOPIA_TRAIN = rdflib.ConjunctiveGraph()\n",
    "SINOPIA_TRAIN.namespace_manager.bind(\"ldp\", LDP)\n",
    "SINOPIA_TEST = rdflib.ConjunctiveGraph()\n",
    "SINOPIA_TEST.namespace_manager.bind(\"ldp\", LDP)\n",
    "SINOPIA_TESTING_PATH = \"/Users/jpnelson/2019/sinopia-data/2019/08/28/test/\"\n",
    "for filename in next(os.walk(SINOPIA_TESTING_PATH))[2]:\n",
    "    SINOPIA_TEST.parse(os.path.join(SINOPIA_TESTING_PATH, filename), format='turtle')\n",
    "SINOPIA_TRAIN_PATH = \"/Users/jpnelson/2019/sinopia-data/2019/08/28/train/\"\n",
    "for filename in next(os.walk(SINOPIA_TRAIN_PATH))[2]:\n",
    "    SINOPIA_TRAIN.parse(os.path.join(SINOPIA_TRAIN_PATH, filename), format='turtle')\n"
   ]
  },
  {
   "cell_type": "code",
   "execution_count": 17,
   "metadata": {},
   "outputs": [
    {
     "name": "stdout",
     "output_type": "stream",
     "text": [
      "Testing triples: 446, Training triples: 2,602\n"
     ]
    }
   ],
   "source": [
    "print(f\"Testing triples: {len(SINOPIA_TEST):,}, Training triples: {len(SINOPIA_TRAIN):,}\")"
   ]
  },
  {
   "cell_type": "code",
   "execution_count": null,
   "metadata": {},
   "outputs": [],
   "source": []
  }
 ],
 "metadata": {
  "kernelspec": {
   "display_name": "Python 3",
   "language": "python",
   "name": "python3"
  },
  "language_info": {
   "codemirror_mode": {
    "name": "ipython",
    "version": 3
   },
   "file_extension": ".py",
   "mimetype": "text/x-python",
   "name": "python",
   "nbconvert_exporter": "python",
   "pygments_lexer": "ipython3",
   "version": "3.7.0"
  }
 },
 "nbformat": 4,
 "nbformat_minor": 2
}
