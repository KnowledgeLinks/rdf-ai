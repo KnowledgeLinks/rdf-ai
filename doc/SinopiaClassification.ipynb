{
 "cells": [
  {
   "cell_type": "markdown",
   "metadata": {},
   "source": [
    "# Sinopia Entity Resource Template Classification"
   ]
  },
  {
   "cell_type": "code",
   "execution_count": 1,
   "metadata": {},
   "outputs": [],
   "source": [
    "from __future__ import absolute_import, division, print_function, unicode_literals\n",
    "\n",
    "import datetime\n",
    "import os\n",
    "import rdflib\n",
    "import numpy as np\n",
    "import pandas as pd\n",
    "import tensorflow as tf\n",
    "SINOPIA_BASE_PATH = \"/Users/jpnelson/2019/sinopia-data/2019/09/24\""
   ]
  },
  {
   "cell_type": "markdown",
   "metadata": {},
   "source": [
    "## Setup\n",
    "Create two graphs, one for testing and one for training"
   ]
  },
  {
   "cell_type": "code",
   "execution_count": 3,
   "metadata": {},
   "outputs": [],
   "source": [
    "LDP = rdflib.Namespace('http://www.w3.org/ns/ldp#')\n",
    "SINOPIA_TRAIN = rdflib.ConjunctiveGraph()\n",
    "SINOPIA_TRAIN.namespace_manager.bind(\"ldp\", LDP)\n",
    "SINOPIA_TEST = rdflib.ConjunctiveGraph()\n",
    "SINOPIA_TEST.namespace_manager.bind(\"ldp\", LDP)\n",
    "SINOPIA_TESTING_PATH = \"/Users/jpnelson/2019/sinopia-data/2019/09/24/test/\"\n",
    "for filename in next(os.walk(SINOPIA_TESTING_PATH))[2]:\n",
    "    SINOPIA_TEST.parse(os.path.join(SINOPIA_TESTING_PATH, filename), format='turtle')\n",
    "SINOPIA_TRAIN_PATH = \"/Users/jpnelson/2019/sinopia-data/2019/09/24/train/\"\n",
    "for filename in next(os.walk(SINOPIA_TRAIN_PATH))[2]:\n",
    "    SINOPIA_TRAIN.parse(os.path.join(SINOPIA_TRAIN_PATH, filename), format='turtle')\n"
   ]
  },
  {
   "cell_type": "code",
   "execution_count": 4,
   "metadata": {},
   "outputs": [
    {
     "name": "stdout",
     "output_type": "stream",
     "text": [
      "Testing triples: 1,081, Training triples: 5,637\n"
     ]
    }
   ],
   "source": [
    "print(f\"Testing triples: {len(SINOPIA_TEST):,}, Training triples: {len(SINOPIA_TRAIN):,}\")"
   ]
  },
  {
   "cell_type": "markdown",
   "metadata": {},
   "source": [
    "Origin 8/28 Testing triples: 446, Training triples: 2,602"
   ]
  },
  {
   "cell_type": "code",
   "execution_count": 4,
   "metadata": {},
   "outputs": [
    {
     "name": "stdout",
     "output_type": "stream",
     "text": [
      "@prefix acl: <http://www.w3.org/ns/auth/acl#> .\n",
      "@prefix as: <https://www.w3.org/ns/activitystreams#> .\n",
      "@prefix dc: <http://purl.org/dc/terms/> .\n",
      "@prefix dc11: <http://purl.org/dc/elements/1.1/> .\n",
      "@prefix geo: <http://www.w3.org/2003/01/geo/wgs84_pos#> .\n",
      "@prefix ldp: <http://www.w3.org/ns/ldp#> .\n",
      "@prefix memento: <http://mementoweb.org/ns#> .\n",
      "@prefix ns1: <http://sinopia.io/vocabulary/> .\n",
      "@prefix ns2: <http://id.loc.gov/ontologies/bibframe/> .\n",
      "@prefix owl: <http://www.w3.org/2002/07/owl#> .\n",
      "@prefix prov: <http://www.w3.org/ns/prov#> .\n",
      "@prefix rdf: <http://www.w3.org/1999/02/22-rdf-syntax-ns#> .\n",
      "@prefix rdfs: <http://www.w3.org/2000/01/rdf-schema#> .\n",
      "@prefix schema: <http://schema.org/> .\n",
      "@prefix skos: <http://www.w3.org/2004/02/skos/core#> .\n",
      "@prefix time: <http://www.w3.org/2006/time#> .\n",
      "@prefix xml: <http://www.w3.org/XML/1998/namespace> .\n",
      "@prefix xsd: <http://www.w3.org/2001/XMLSchema#> .\n",
      "\n",
      "<https://trellis.stage.sinopia.io/repository/ucdavis/f179f138-8d01-47ac-8c9d-0e9c4ff7b3dd> a ns2:AbbreviatedTitle ;\n",
      "    ns2:mainTitle \"Henry's first moon birthday and his great party\"@en ;\n",
      "    ns1:hasResourceTemplate \"sinopia:resourceTemplate:bf2:Title:AbbrTitle\" ;\n",
      "    prov:wasGeneratedBy [ a prov:Activity,\n",
      "                as:Create ;\n",
      "            prov:atTime \"2019-08-12T23:35:46.808000+00:00\"^^xsd:dateTime ;\n",
      "            prov:wasAssociatedWith <https://cognito-idp.us-west-2.amazonaws.com/us-west-2_ilMQW0M0R/4ea8b347-6d8a-4559-8af7-2e88deccf0e0> ] .\n",
      "\n",
      "\n"
     ]
    }
   ],
   "source": [
    "single_graph = rdflib.ConjunctiveGraph()\n",
    "single_graph.parse(\"/Users/jpnelson/2019/sinopia-data/2019/09/24/train/00002.ttl\", format='turtle')\n",
    "print(single_graph.serialize(format='turtle').decode())"
   ]
  },
  {
   "cell_type": "code",
   "execution_count": 5,
   "metadata": {},
   "outputs": [],
   "source": [
    "BF = rdflib.Namespace(\"http://id.loc.gov/ontologies/bibframe/\")"
   ]
  },
  {
   "cell_type": "code",
   "execution_count": 32,
   "metadata": {},
   "outputs": [],
   "source": [
    "def rdf_series(graph, subject):\n",
    "    data = [str(subject)]\n",
    "    index = ['subject']\n",
    "    for p,o in graph.predicate_objects(subject=subject):\n",
    "        # Predicate is added to index\n",
    "        index.append(str(p))\n",
    "        # Object is store in data\n",
    "        data.append(str(o))\n",
    "    return pd.Series(data, index)\n",
    "\n",
    "def load_graph(graph):\n",
    "    data_series = []\n",
    "    # Loads triples into subject data series\n",
    "    for subject in set(graph.subjects()):\n",
    "        data_series.append(rdf_series(graph, subject))\n",
    "    # For now returns a list, should create data frames for each rdf:type\n",
    "    return data_series"
   ]
  },
  {
   "cell_type": "code",
   "execution_count": 27,
   "metadata": {},
   "outputs": [],
   "source": [
    "first = rdf_series(single_graph, \n",
    "                   rdflib.URIRef(\"https://trellis.stage.sinopia.io/repository/ucdavis/f179f138-8d01-47ac-8c9d-0e9c4ff7b3dd\"))"
   ]
  },
  {
   "cell_type": "code",
   "execution_count": 33,
   "metadata": {},
   "outputs": [],
   "source": [
    "data_frames = load_graph(single_graph)"
   ]
  },
  {
   "cell_type": "code",
   "execution_count": 34,
   "metadata": {},
   "outputs": [
    {
     "data": {
      "text/plain": [
       "[subject                                                          fb4f24525b74e4965945a4a5b9be99f31b1\n",
       " http://www.w3.org/1999/02/22-rdf-syntax-ns#type         https://www.w3.org/ns/activitystreams#Create\n",
       " http://www.w3.org/1999/02/22-rdf-syntax-ns#type                   http://www.w3.org/ns/prov#Activity\n",
       " http://www.w3.org/ns/prov#atTime                                    2019-08-12T23:35:46.808000+00:00\n",
       " http://www.w3.org/ns/prov#wasAssociatedWith        https://cognito-idp.us-west-2.amazonaws.com/us...\n",
       " dtype: object,\n",
       " subject                                             https://trellis.stage.sinopia.io/repository/uc...\n",
       " http://www.w3.org/1999/02/22-rdf-syntax-ns#type     http://id.loc.gov/ontologies/bibframe/Abbrevia...\n",
       " http://sinopia.io/vocabulary/hasResourceTemplate         sinopia:resourceTemplate:bf2:Title:AbbrTitle\n",
       " http://www.w3.org/ns/prov#wasGeneratedBy                          fb4f24525b74e4965945a4a5b9be99f31b1\n",
       " http://id.loc.gov/ontologies/bibframe/mainTitle       Henry's first moon birthday and his great party\n",
       " dtype: object]"
      ]
     },
     "execution_count": 34,
     "metadata": {},
     "output_type": "execute_result"
    }
   ],
   "source": [
    "data_frames"
   ]
  },
  {
   "cell_type": "code",
   "execution_count": null,
   "metadata": {},
   "outputs": [],
   "source": []
  }
 ],
 "metadata": {
  "kernelspec": {
   "display_name": "Python 3",
   "language": "python",
   "name": "python3"
  },
  "language_info": {
   "codemirror_mode": {
    "name": "ipython",
    "version": 3
   },
   "file_extension": ".py",
   "mimetype": "text/x-python",
   "name": "python",
   "nbconvert_exporter": "python",
   "pygments_lexer": "ipython3",
   "version": "3.7.0"
  }
 },
 "nbformat": 4,
 "nbformat_minor": 2
}
